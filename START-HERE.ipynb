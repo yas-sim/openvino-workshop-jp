{
 "cells": [
  {
   "cell_type": "markdown",
   "metadata": {},
   "source": [
    "# Intel(R) Distribution of OpenVINO(tm) - Hands-on Workshop\n"
   ]
  },
  {
   "cell_type": "markdown",
   "metadata": {},
   "source": [
    "このIntel(R) Distribution of OpenVINO(tm)ハンズオン・ワークショップでは下記の内容について学びます。\n",
    "OpenVINO 2021.3.xでの動作確認済み。\n",
    "\n",
    "## アジェンダ\n",
    "1.  OpenVINO APIの基礎: 簡単な画像分類プログラム(Python) - [classification.ipynb](./classification.ipynb)\n",
    "2.  OpenVINOを使った物体検出プログラムの基礎 (Python) - [object-detection-ssd.ipynb](./object-detection-ssd.ipynb)\n",
    "3.  非同期推論実行方法の基礎 (Python) - [classification-async-single.ipynb](./classification-async-single.ipynb)\n",
    "4.  非同期推論、同時推論を使った高スループットアプリケーションの基礎 (Python) - [classification-async-multi.ipynb](./classification-async-multi.ipynb)\n",
    "----------------------------------\n",
    "5. おまけ - C++プロジェクトのビルド方法 [cpp-project.ipynb](./cpp-project.ipynb)"
   ]
  }
 ],
 "metadata": {
  "kernelspec": {
   "display_name": "Python 3",
   "language": "python",
   "name": "python3"
  },
  "language_info": {
   "codemirror_mode": {
    "name": "ipython",
    "version": 3
   },
   "file_extension": ".py",
   "mimetype": "text/x-python",
   "name": "python",
   "nbconvert_exporter": "python",
   "pygments_lexer": "ipython3",
   "version": "3.6.5"
  }
 },
 "nbformat": 4,
 "nbformat_minor": 4
}
