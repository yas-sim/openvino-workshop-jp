{
 "cells": [
  {
   "cell_type": "markdown",
   "metadata": {},
   "source": [
    "# OpenVINOを使った物体検出プログラムの基礎を学ぶ\n",
    "OpenVINOを使うと物体検出(object detection)プログラムも簡単に作ることができます。  \n",
    "ここではSSD(Single Shot multi-box Detection)モデルを使った物探検出プログラムの基礎を学びます。"
   ]
  },
  {
   "cell_type": "markdown",
   "metadata": {},
   "source": [
    "### 必要なPythonモジュールをインストールする\n",
    "このコースでは`matplotlib`を使って画像表示を行うので、モジュールをインストールしておきます。"
   ]
  },
  {
   "cell_type": "code",
   "execution_count": null,
   "metadata": {},
   "outputs": [],
   "source": [
    "# Linux\n",
    "!pip3 install matplotlib"
   ]
  },
  {
   "cell_type": "code",
   "execution_count": null,
   "metadata": {},
   "outputs": [],
   "source": [
    "# Windows\n",
    "!pip install matplotlib"
   ]
  },
  {
   "cell_type": "markdown",
   "metadata": {},
   "source": [
    "### 入力画像とラベルデータの準備\n",
    "まずは推論に使用する入力画像ファイルと、クラスラベルのテキストファイルをOpenVINOのdemoディレクトリからコピーしてきます。"
   ]
  },
  {
   "cell_type": "code",
   "execution_count": null,
   "metadata": {},
   "outputs": [],
   "source": [
    "# Linux\n",
    "!cp $INTEL_OPENVINO_DIR/deployment_tools/demo/car_1.bmp .\n",
    "!cp $INTEL_OPENVINO_DIR/deployment_tools/open_model_zoo/data/dataset_classes/voc_20cl_bkgr.txt ."
   ]
  },
  {
   "cell_type": "code",
   "execution_count": null,
   "metadata": {},
   "outputs": [],
   "source": [
    "# Windows \n",
    "!copy \"%INTEL_OPENVINO_DIR%\\deployment_tools\\demo\\car_1\".bmp .\n",
    "!copy \"%INTEL_OPENVINO_DIR%\\deployment_tools\\open_model_zoo\\data\\dataset_classes\\voc_20cl_bkgr.txt\" ."
   ]
  },
  {
   "cell_type": "markdown",
   "metadata": {},
   "source": [
    "コピーしてきた推論入力の絵を表示して確認します。  \n",
    "**Note:** `IPython.display.Image`ではBMPファイルの表示ができないので、ここでは`OpenCV`と`matplotlib`を使用しています。"
   ]
  },
  {
   "cell_type": "code",
   "execution_count": null,
   "metadata": {},
   "outputs": [],
   "source": [
    "%matplotlib inline\n",
    "import cv2\n",
    "import matplotlib.pyplot as plt\n",
    "img=cv2.imread('car_1.bmp')\n",
    "img=cv2.cvtColor(img, cv2.COLOR_BGR2RGB)\n",
    "plt.imshow(img)\n",
    "plt.show()"
   ]
  },
  {
   "cell_type": "markdown",
   "metadata": {},
   "source": [
    "### 推論に使用するIRモデルデータの準備\n",
    "推論に使用するモデルを`Model downloader`でダウンロードし、`Model converter`でIRモデルに変換します。  \n",
    "モデルは軽量な`mobilenet-ssd`モデルを使用します。"
   ]
  },
  {
   "cell_type": "code",
   "execution_count": null,
   "metadata": {},
   "outputs": [],
   "source": [
    "# Linux\n",
    "!python3 $INTEL_OPENVINO_DIR/deployment_tools/tools/model_downloader/downloader.py --name mobilenet-ssd\n",
    "!python3 $INTEL_OPENVINO_DIR/deployment_tools/tools/model_downloader/converter.py  --name mobilenet-ssd --precisions FP16\n",
    "!ls public/mobilenet-ssd/FP16 -l"
   ]
  },
  {
   "cell_type": "code",
   "execution_count": null,
   "metadata": {},
   "outputs": [],
   "source": [
    "# Windows\n",
    "!python \"%INTEL_OPENVINO_DIR%\\deployment_tools\\tools\\model_downloader\\downloader.py\" --name mobilenet-ssd\n",
    "!python \"%INTEL_OPENVINO_DIR%\\deployment_tools\\tools\\model_downloader\\converter.py\"  --name mobilenet-ssd --precisions FP16\n",
    "!dir public\\mobilenet-ssd\\FP16"
   ]
  },
  {
   "cell_type": "markdown",
   "metadata": {},
   "source": [
    "----\n",
    "ここからPythonプログラム本体となります。  "
   ]
  },
  {
   "cell_type": "markdown",
   "metadata": {},
   "source": [
    "### プログラムで使用するモジュールをインポートする"
   ]
  },
  {
   "cell_type": "code",
   "execution_count": null,
   "metadata": {},
   "outputs": [],
   "source": [
    "import cv2\n",
    "import numpy as np\n",
    "from openvino.inference_engine import IECore"
   ]
  },
  {
   "cell_type": "markdown",
   "metadata": {},
   "source": [
    "### クラスラベルテキストデータを読み込む"
   ]
  },
  {
   "cell_type": "code",
   "execution_count": null,
   "metadata": {},
   "outputs": [],
   "source": [
    "label = open('voc_20cl_bkgr.txt').readlines()\n",
    "\n",
    "print(len(label), 'labels read')   # 読み込んだラベルの個数を表示\n",
    "print(label)                       # ラベルを表示"
   ]
  },
  {
   "cell_type": "markdown",
   "metadata": {},
   "source": [
    "### Inference Engineオブジェクトを生成する\n",
    "- Inference Engineコアオブジェクトを生成\n",
    "- モデルデータの読み込み\n",
    "- 入出力ブロブ(バッファ)の情報取得"
   ]
  },
  {
   "cell_type": "code",
   "execution_count": null,
   "metadata": {},
   "outputs": [],
   "source": [
    "# Inference Engineコアオブジェクトの生成\n",
    "ie = IECore()\n",
    "\n",
    "# IRモデルファイルの読み込み\n",
    "model = './public/mobilenet-ssd/FP16/mobilenet-ssd'\n",
    "net = ie.read_network(model=model+'.xml', weights=model+'.bin')\n",
    "\n",
    "# 入出力blobの名前の取得、入力blobのシェイプの取得\n",
    "input_blob_name  = list(net.input_info.keys())[0]\n",
    "output_blob_name = list(net.outputs.keys())[0]\n",
    "batch,channel,height,width = net.input_info[input_blob_name].tensor_desc.dims\n",
    "\n",
    "# モデルの情報の表示\n",
    "print(input_blob_name, output_blob_name, batch, channel, height, width)\n",
    "print(net.outputs[output_blob_name].shape)"
   ]
  },
  {
   "cell_type": "markdown",
   "metadata": {},
   "source": [
    "### モデルをIE coreオブジェクトにロードする\n",
    "読み込んだネットワークオブジェクトをInference engineプラグインにセットします。 "
   ]
  },
  {
   "cell_type": "code",
   "execution_count": null,
   "metadata": {},
   "outputs": [],
   "source": [
    "exec_net = ie.load_network(network=net, device_name='CPU', num_requests=1)"
   ]
  },
  {
   "cell_type": "markdown",
   "metadata": {},
   "source": [
    "### 推論入力データを準備する\n",
    "推論入力画像を読み込み、入力ブロブのシェイプに合わせて変形します。"
   ]
  },
  {
   "cell_type": "code",
   "execution_count": null,
   "metadata": {},
   "outputs": [],
   "source": [
    "print('input blob: name=\"{}\", N={}, C={}, H={}, W={}'.format(input_blob_name, batch, channel, height, width))\n",
    "img    = cv2.imread('car_1.bmp')\n",
    "in_img = cv2.resize(img, (width,height))\n",
    "in_img = in_img.transpose((2, 0, 1))\n",
    "in_img = in_img.reshape((1, channel, height, width))\n",
    "\n",
    "print(in_img.shape)"
   ]
  },
  {
   "cell_type": "markdown",
   "metadata": {},
   "source": [
    "### 推論を実行する\n",
    "`infer()` APIはブロッキング関数です。推論が終了すると制御が戻り、次の行を実行します。  \n",
    "入力は`{入力blob名:入力データ}`の辞書の形で渡します。\n",
    "\n",
    "**ここまでのコードは画像分類(classification)の時と変わっていません(モデル、ラベル、入力画像ファイル名だけが違う)。OpenVINOでの推論プログラムはモデルに応じた結果の処理部分以外は共通で使える部分が多いのも特徴です**"
   ]
  },
  {
   "cell_type": "code",
   "execution_count": null,
   "metadata": {},
   "outputs": [],
   "source": [
    "res = exec_net.infer(inputs={input_blob_name: in_img})\n",
    "\n",
    "print(res[output_blob_name].shape)"
   ]
  },
  {
   "cell_type": "markdown",
   "metadata": {},
   "source": [
    "### 推論結果を表示する  \n",
    "今回使用しているmobilenet-ssdモデル100のオブジェクト候補を出力し、各オブジェクトごとに7つのデータを出力します(シェイプが[1,1,100,7])。  \n",
    "各オブジェクト毎のデータは[`id`, `class#`, `confidence`, `xmin`, `ymin`, `xmax`, `ymax`]の７つのパラメータが出てきます。  \n",
    "class#はクラス番号を、confidenceは「そのクラスらしさ」を0.0-1.0 (1.0=100%)で表します。(`xmin`,`ymin`)-(`xmax`,`ymax`)がオブジェクトを囲む箱(bounding box)の座標を示します。bounding boxの座標も0.0-1.0で出力され、画像の左上が(0.0, 0.0)、画像の右下が(1.0, 1.0)となるので画像のピクセル数を掛けて座標値に変換し、黄色の箱とラベル名を描画しています。  \n",
    "最後に`matplotlib`を使用して画像を表示させています。"
   ]
  },
  {
   "cell_type": "code",
   "execution_count": null,
   "metadata": {},
   "outputs": [],
   "source": [
    "print('output blob: name=\"{}\", shape={}'.format(output_blob_name, net.outputs[output_blob_name].shape))\n",
    "result = res[output_blob_name][0][0]\n",
    "img_h, img_w, _ = img.shape\n",
    "for obj in result:\n",
    "    imgid, clsid, confidence, x1, y1, x2, y2 = obj\n",
    "    if confidence>0.6:\n",
    "        x1 = int(x1 * img_w)\n",
    "        y1 = int(y1 * img_h)\n",
    "        x2 = int(x2 * img_w)\n",
    "        y2 = int(y2 * img_h)\n",
    "        cv2.rectangle(img, (x1, y1), (x2, y2), (0,255,255), thickness=4 )\n",
    "        cv2.putText(img, label[int(clsid)][:-1], (x1, y1), cv2.FONT_HERSHEY_PLAIN, fontScale=4, color=(0,255,255), thickness=4)\n",
    "\n",
    "%matplotlib inline\n",
    "import matplotlib.pyplot as plt\n",
    "img=cv2.cvtColor(img, cv2.COLOR_BGR2RGB)\n",
    "plt.imshow(img)\n",
    "plt.show()"
   ]
  },
  {
   "cell_type": "markdown",
   "metadata": {},
   "source": [
    "----\n",
    "ここまででOpenVINOを使用した物体検出プログラムの基礎を学びました。  \n",
    "見てきたように、推論結果処理部分が違うだけで大部分が画像推論(classification)プログラムと同じになっていました。  \n",
    "OpenVINOではモデルの入力と出力のデータフォーマットさえ分かっていれば、詳細なモデルの動作などを理解していなくてもディープラーニングを使ったプログラムを簡単に作成することが可能です。"
   ]
  },
  {
   "cell_type": "markdown",
   "metadata": {},
   "source": [
    "## Next => 非同期推論実行方法の基礎 - [classification-async-single.ipynb](./classification-async-single.ipynb)"
   ]
  }
 ],
 "metadata": {
  "kernelspec": {
   "display_name": "Python 3",
   "language": "python",
   "name": "python3"
  },
  "language_info": {
   "codemirror_mode": {
    "name": "ipython",
    "version": 3
   },
   "file_extension": ".py",
   "mimetype": "text/x-python",
   "name": "python",
   "nbconvert_exporter": "python",
   "pygments_lexer": "ipython3",
   "version": "3.6.5"
  }
 },
 "nbformat": 4,
 "nbformat_minor": 4
}
